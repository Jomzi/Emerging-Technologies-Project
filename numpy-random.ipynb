{
 "cells": [
  {
   "cell_type": "markdown",
   "metadata": {},
   "source": [
    "# NumPy Random Package\n",
    "\n",
    "The ability to generate random numbers is an important part of any simulation. For this purpose, NumPy provides various functions in the submodule **random**. It uses an  algorithm called the Mersenne Twister to generate pseudorandom numbers. [1]\n",
    "\n",
    "We first need to define a seed that makes the random numbers predictable. When the value is reset, the same numbers will appear every time. If we do not assign the seed, NumPy automatically selects a random seed value based on the system's random number generator device or on the clock.[1]"
   ]
  },
  {
   "cell_type": "markdown",
   "metadata": {},
   "source": [
    "Here are a few examples of NumPy Random functions that are frequently used: "
   ]
  },
  {
   "cell_type": "markdown",
   "metadata": {},
   "source": [
    "### 1. rand\n",
    "This function creates an array of the given shape and populates it with random samples from a uniform distribution over [0, 1). [2]\n",
    "\n",
    "**Syntax:** numpy.random.rand(d0, d1, ..., dn)\n",
    "\n",
    "**Input Parameters:** The dimensions of the returned array. They should all be positive integers. If no argument is given a single Python float is returned.\n",
    "\n",
    "**Returns:**  ndarray of shape (d0, d1, ..., dn)"
   ]
  },
  {
   "cell_type": "code",
   "execution_count": 1,
   "metadata": {},
   "outputs": [
    {
     "data": {
      "text/plain": [
       "array([[0.64428972, 0.71394455, 0.98138201],\n",
       "       [0.56913373, 0.47595442, 0.931486  ]])"
      ]
     },
     "execution_count": 1,
     "metadata": {},
     "output_type": "execute_result"
    }
   ],
   "source": [
    "#This returns a ndarray of shape (2,3)\n",
    "import numpy as np\n",
    "np.random.rand(2,3)"
   ]
  },
  {
   "cell_type": "markdown",
   "metadata": {},
   "source": [
    "### 2. randint\n",
    "\n",
    "This function returns random integers from the 'discrete uniform' distribution of the specified dtype in the 'half-open' interval [low, high). \n",
    "If the value of high is None, then results are from [0, low). [3]\n",
    "\n",
    "**Syntax:** numpy.random.randint(low, high=None, size=None, dtype='l')\n",
    "\n",
    "**Input Parameters:** low - Lowest integer to be drawn from the distribution.\n",
    "\n",
    "high - This is optional. The largest integer to be drawn from the distribution will be one less than this value.\n",
    "\n",
    "size - Output shape. Must be int or tuple of ints.\n",
    "\n",
    "dtype - Desired datatype of the result. The default value is ‘np.int’.\n",
    "                                    \n",
    "**Returns:** Size-shaped array of random integers from the appropriate distribution. If size not provided, then a single int is returned."
   ]
  },
  {
   "cell_type": "code",
   "execution_count": 2,
   "metadata": {},
   "outputs": [
    {
     "data": {
      "text/plain": [
       "array([2, 1, 0, 0, 1])"
      ]
     },
     "execution_count": 2,
     "metadata": {},
     "output_type": "execute_result"
    }
   ],
   "source": [
    "#Generate array of size 5 with values between 0 and 2\n",
    "np.random.randint(3, size=5)"
   ]
  },
  {
   "cell_type": "code",
   "execution_count": 3,
   "metadata": {},
   "outputs": [
    {
     "data": {
      "text/plain": [
       "array([[1, 0],\n",
       "       [1, 1],\n",
       "       [2, 4]])"
      ]
     },
     "execution_count": 3,
     "metadata": {},
     "output_type": "execute_result"
    }
   ],
   "source": [
    "#Generate 2D array with values between 0 and 4\n",
    "np.random.randint(5, size=(3, 2))"
   ]
  },
  {
   "cell_type": "markdown",
   "metadata": {},
   "source": [
    "### 3. random\n",
    "This function returns random floats in the half-open interval [0.0, 1.0). [4]\n",
    "\n",
    "**Syntax:** numpy.random.random(size=None)\n",
    "\n",
    "**Input Parameters:** size - This is the Output shape. Must be int or tuple of ints.\n",
    "\n",
    "**Returns:** Array of random floats of shape size"
   ]
  },
  {
   "cell_type": "code",
   "execution_count": 4,
   "metadata": {},
   "outputs": [
    {
     "data": {
      "text/plain": [
       "array([[0.21780061, 0.44102551, 0.56357905],\n",
       "       [0.40953904, 0.77740032, 0.59164519],\n",
       "       [0.11112444, 0.05297213, 0.04475818],\n",
       "       [0.95081051, 0.60170071, 0.00297586]])"
      ]
     },
     "execution_count": 4,
     "metadata": {},
     "output_type": "execute_result"
    }
   ],
   "source": [
    "#Generate 2D array with values between 0 and 1\n",
    "np.random.random_sample((4, 3))"
   ]
  },
  {
   "cell_type": "markdown",
   "metadata": {},
   "source": [
    "### 4. choice\n",
    "This function generates a random sample from a given 1-D array. [5]\n",
    "\n",
    "**Syntax:** numpy.random.choice(a, size=None, replace=True, p=None)\n",
    "\n",
    "**Input Parameters:** a - Array or int. For an ndarray a random sample is generated from its elements. For an int, the random sample is generated as if a were np.arange(a).\n",
    "\n",
    "size - It is the Output shape. Must be int or tuple of ints.         \n",
    "            \n",
    "replace - Whether the sample is with or without replacement       \n",
    "\n",
    "p - The probabilities associated with each entry in a.\n",
    "    \n",
    "**Returns:** The generated random samples. Will be single item or ndarray."
   ]
  },
  {
   "cell_type": "code",
   "execution_count": 5,
   "metadata": {},
   "outputs": [
    {
     "data": {
      "text/plain": [
       "array([3, 1, 5, 9, 4])"
      ]
     },
     "execution_count": 5,
     "metadata": {},
     "output_type": "execute_result"
    }
   ],
   "source": [
    "#Generate a uniform random sample from np.arange(10) of size 5 without replacement:\n",
    "np.random.choice(10, 5, replace=False)\n",
    "#This is equivalent to np.random.permutation(np.arange(10))[:5]"
   ]
  },
  {
   "cell_type": "markdown",
   "metadata": {},
   "source": [
    "### 5. permutation\n",
    "This function randomly permutes a sequence or returns a permuted range. [6]\n",
    "\n",
    "**Syntax:** numpy.random.permutation(x)\n",
    "\n",
    "**Input Parameters:** x - Randomly permutes np.arange(x) if x is an integer. If x is an array it makes a copy and shuffles the elements randomly.\n",
    "\n",
    "**Returns:** Permuted sequence or array range"
   ]
  },
  {
   "cell_type": "code",
   "execution_count": 6,
   "metadata": {},
   "outputs": [
    {
     "data": {
      "text/plain": [
       "array([0, 1, 4, 3, 2])"
      ]
     },
     "execution_count": 6,
     "metadata": {},
     "output_type": "execute_result"
    }
   ],
   "source": [
    "#This creates an array of length 5 with values from 0 to 4. \n",
    "np.random.permutation(5)"
   ]
  },
  {
   "cell_type": "code",
   "execution_count": 7,
   "metadata": {},
   "outputs": [
    {
     "data": {
      "text/plain": [
       "array([15, 29,  2,  3,  4,  8, 21, 30, 13])"
      ]
     },
     "execution_count": 7,
     "metadata": {},
     "output_type": "execute_result"
    }
   ],
   "source": [
    "#This shuffles the elements in the array randomly.\n",
    "np.random.permutation([2, 3, 4, 8, 13, 15, 21, 29, 30])"
   ]
  },
  {
   "cell_type": "markdown",
   "metadata": {},
   "source": [
    "<br>\n",
    "## Frequency Distributions\n",
    "Here are a few examples of NumPy Frequency Distributions that are commonly used:\n",
    "### 1. normal\n",
    "This function draws random samples from a normal (Gaussian) distribution. [7]\n",
    "\n",
    "**Syntax:** numpy.random.normal(mean=0.0, sd=1.0, size=None)\n",
    "\n",
    "**Input Parameters:** mean - Mean of the distribution.\n",
    "\n",
    "sd - Standard deviation of the distribution.\n",
    "\n",
    "size - Shape of the output. \n",
    "\n",
    "**Returns:** Drawn samples from the parameterized normal distribution."
   ]
  },
  {
   "cell_type": "code",
   "execution_count": 8,
   "metadata": {
    "collapsed": true
   },
   "outputs": [],
   "source": [
    "mean, sd = 5, 0.2 # mean and standard deviation [7]\n",
    "s = np.random.normal(mean, sd, 1000)"
   ]
  },
  {
   "cell_type": "code",
   "execution_count": 9,
   "metadata": {},
   "outputs": [
    {
     "data": {
      "image/png": "[encoded data removed]",
      "text/plain": [
       "<matplotlib.figure.Figure at 0x288a91cc668>"
      ]
     },
     "metadata": {},
     "output_type": "display_data"
    }
   ],
   "source": [
    "#We now plot a histogram [7]\n",
    "import matplotlib.pyplot as plt\n",
    "count, bins, ignored = plt.hist(s, 30, normed=True)\n",
    "plt.plot(bins, 1/(sd * np.sqrt(2 * np.pi)) * \n",
    "         np.exp( - (bins - mean)**2 / (2 * sd**2) ), linewidth=2, color='orange')\n",
    "plt.show()"
   ]
  },
  {
   "cell_type": "markdown",
   "metadata": {},
   "source": [
    "### 2. gamma\n",
    "\n",
    "This function draws samples from a Gamma distribution. [8]\n",
    "\n",
    "**Syntax:** numpy.random.gamma(shape, scale=1.0, size=None)\n",
    "\n",
    "**Input Parameters:** shape - The shape of the gamma distribution. Value should be greater than zero.\n",
    "\n",
    "scale - The scale of the gamma distribution. Default is equal to 1.\n",
    "\n",
    "size - Shape of the output.\n",
    "\n",
    "**Returns:** Drawn samples from the parameterized gamma distribution. Will be ndarray or scalar values."
   ]
  },
  {
   "cell_type": "code",
   "execution_count": 10,
   "metadata": {
    "collapsed": true
   },
   "outputs": [],
   "source": [
    "#Gamma distribution [8]\n",
    "shape, scale = 2., 2.  # mean=4, std=2*sqrt(2)\n",
    "s = np.random.gamma(shape, scale, 1000)"
   ]
  },
  {
   "cell_type": "code",
   "execution_count": 11,
   "metadata": {},
   "outputs": [
    {
     "data": {
      "image/png": "[encoded data removed]",
      "text/plain": [
       "<matplotlib.figure.Figure at 0x288abe2a4e0>"
      ]
     },
     "metadata": {},
     "output_type": "display_data"
    }
   ],
   "source": [
    "#Display the histogram of the samples, along with the probability density function: [8]\n",
    "import scipy.special as sps\n",
    "count, bins, ignored = plt.hist(s, 50, normed=True)\n",
    "y = bins**(shape-1)*(np.exp(-bins/scale) / (sps.gamma(shape)*scale**shape))\n",
    "plt.plot(bins, y, linewidth=2, color='orange')\n",
    "plt.show()"
   ]
  },
  {
   "cell_type": "markdown",
   "metadata": {},
   "source": [
    "### 3. logistic\n",
    "\n",
    "This function draws samples from a logistic distribution. [9]\n",
    "\n",
    "**Syntax:** numpy.random.logistic(mean=0.0, scale=1.0, size=None)\n",
    "\n",
    "**Input Parameters:** mean - Parameter of the distribution. Default is 0.\n",
    "\n",
    "scale - Parameter of the distribution. Should be greater than zero. Default is 1.\n",
    "\n",
    "size - Shape of the output.\n",
    "\n",
    "**Returns:** Drawn samples from the parameterized logistic distribution. Will be ndarray or scalar values."
   ]
  },
  {
   "cell_type": "code",
   "execution_count": 12,
   "metadata": {
    "collapsed": true
   },
   "outputs": [],
   "source": [
    "#Draw samples from the distribution: [9]\n",
    "mean, scale = 5, 2\n",
    "s = np.random.logistic(mean, scale, 15000)\n",
    "count, bins, ignored = plt.hist(s, bins=50)"
   ]
  },
  {
   "cell_type": "code",
   "execution_count": 13,
   "metadata": {},
   "outputs": [
    {
     "data": {
      "image/png": "[encoded data removed]",
      "text/plain": [
       "<matplotlib.figure.Figure at 0x288a91ae978>"
      ]
     },
     "metadata": {},
     "output_type": "display_data"
    }
   ],
   "source": [
    "# plot against distribution [9]\n",
    "def logistic(x, mean, scale):\n",
    "    return np.exp((mean-x)/scale)/(scale*(1+np.exp((mean-x)/scale))**2)\n",
    "plt.plot(bins, logistic(bins, mean, scale)*count.max()/ logistic(bins, mean, scale).max())\n",
    "plt.show()"
   ]
  },
  {
   "cell_type": "markdown",
   "metadata": {},
   "source": [
    "### 4. lognormal\n",
    "This function draws samples from a log-normal distribution. [10]\n",
    "\n",
    "**Syntax:** numpy.random.lognormal(mean=0.0, sigma=1.0, size=None)\n",
    "\n",
    "**Input Parameters:** mean - Mean value of the underlying normal distribution. Default is 0.\n",
    "\n",
    "sigma - Standard deviation of the underlying normal distribution. Should be greater than zero. Default is 1.\n",
    "\n",
    "size - Shape of the output.\n",
    "\n",
    "**Returns:** Drawn samples from the parameterized log-normal distribution. Will be ndarray or scalar values."
   ]
  },
  {
   "cell_type": "code",
   "execution_count": 14,
   "metadata": {
    "collapsed": true
   },
   "outputs": [],
   "source": [
    "#Draw samples from the distribution: [10]\n",
    "mean, sd = 5., 1. # mean and standard deviation\n",
    "s = np.random.lognormal(mean, sd, 750)"
   ]
  },
  {
   "cell_type": "code",
   "execution_count": 15,
   "metadata": {},
   "outputs": [
    {
     "data": {
      "image/png": "[encoded data removed]",
      "text/plain": [
       "<matplotlib.figure.Figure at 0x288a91cc358>"
      ]
     },
     "metadata": {},
     "output_type": "display_data"
    }
   ],
   "source": [
    "#Display the histogram of the samples, along with the probability density function:[10]\n",
    "count, bins, ignored = plt.hist(s, 100, normed=True, align='mid')\n",
    "x = np.linspace(min(bins), max(bins), 10000)\n",
    "pdf = (np.exp(-(np.log(x) - mean)**2 / (2 * sd**2)) / (x * sd * np.sqrt(2 * np.pi)))\n",
    "\n",
    "plt.plot(x, pdf, linewidth=2, color='orange')\n",
    "plt.axis('tight')\n",
    "plt.show()"
   ]
  },
  {
   "cell_type": "markdown",
   "metadata": {},
   "source": [
    "### 5. poisson\n",
    "\n",
    "This function draws samples from a Poisson distribution. The Poisson distribution is the limit of the binomial distribution for large N. [11]\n",
    "\n",
    "**Syntax:** numpy.random.poisson(lam=1.0, size=None)\n",
    "\n",
    "**Input Parameters:** lam - Expectation of interval. Should be greater than or equal to zero. \n",
    "\n",
    "size - Shape of the output.\n",
    "\n",
    "**Returns:** Drawn samples from the parameterized Poisson distribution. Will be ndarray or scalar values."
   ]
  },
  {
   "cell_type": "code",
   "execution_count": 16,
   "metadata": {
    "collapsed": true
   },
   "outputs": [],
   "source": [
    "#Draw samples from the distribution: [11]\n",
    "s = np.random.poisson(8, 50000)"
   ]
  },
  {
   "cell_type": "code",
   "execution_count": 17,
   "metadata": {},
   "outputs": [
    {
     "data": {
      "image/png": "[encoded data removed]",
      "text/plain": [
       "<matplotlib.figure.Figure at 0x288ac621668>"
      ]
     },
     "metadata": {},
     "output_type": "display_data"
    }
   ],
   "source": [
    "#Display histogram of the sample: [11]\n",
    "count, bins, ignored = plt.hist(s, 14, normed=True)\n",
    "plt.show()"
   ]
  },
  {
   "cell_type": "markdown",
   "metadata": {},
   "source": [
    "### References:\n",
    "1. https://www.packtpub.com/mapt/book/big_data_and_business_intelligence/9781785285110/2/ch02lvl1sec16/numpy-random-numbers\n",
    "2. https://docs.scipy.org/doc/numpy-1.13.0/reference/generated/numpy.random.rand.html#numpy.random.rand\n",
    "3. https://docs.scipy.org/doc/numpy-1.13.0/reference/generated/numpy.random.randint.html#numpy.random.randint\n",
    "4. https://docs.scipy.org/doc/numpy-1.13.0/reference/generated/numpy.random.random.html#numpy.random.random\n",
    "5. https://docs.scipy.org/doc/numpy-1.13.0/reference/generated/numpy.random.choice.html#numpy.random.choice\n",
    "6. https://docs.scipy.org/doc/numpy-1.13.0/reference/generated/numpy.random.permutation.html#numpy.random.permutation\n",
    "7. https://docs.scipy.org/doc/numpy-1.13.0/reference/generated/numpy.random.normal.html#numpy.random.normal\n",
    "8. https://docs.scipy.org/doc/numpy-1.13.0/reference/generated/numpy.random.gamma.html#numpy.random.gamma\n",
    "9. https://docs.scipy.org/doc/numpy-1.13.0/reference/generated/numpy.random.logistic.html#numpy.random.logistic\n",
    "10. https://docs.scipy.org/doc/numpy-1.13.0/reference/generated/numpy.random.lognormal.html#numpy.random.lognormal\n",
    "11. https://docs.scipy.org/doc/numpy-1.13.0/reference/generated/numpy.random.poisson.html#numpy.random.poisson\n"
   ]
  }
 ],
 "metadata": {
  "kernelspec": {
   "display_name": "Python 3",
   "language": "python",
   "name": "python3"
  },
  "language_info": {
   "codemirror_mode": {
    "name": "ipython",
    "version": 3
   },
   "file_extension": ".py",
   "mimetype": "text/x-python",
   "name": "python",
   "nbconvert_exporter": "python",
   "pygments_lexer": "ipython3",
   "version": "3.6.3"
  }
 },
 "nbformat": 4,
 "nbformat_minor": 2
}
